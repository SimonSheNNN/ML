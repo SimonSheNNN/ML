{
  "nbformat": 4,
  "nbformat_minor": 0,
  "metadata": {
    "kernelspec": {
      "display_name": "Python 3",
      "language": "python",
      "name": "python3"
    },
    "language_info": {
      "codemirror_mode": {
        "name": "ipython",
        "version": 3
      },
      "file_extension": ".py",
      "mimetype": "text/x-python",
      "name": "python",
      "nbconvert_exporter": "python",
      "pygments_lexer": "ipython3",
      "version": "3.5.1+"
    },
    "colab": {
      "name": "hw2.ipynb",
      "provenance": [],
      "collapsed_sections": []
    }
  },
  "cells": [
    {
      "cell_type": "markdown",
      "metadata": {
        "id": "k7A8_5bKoB06"
      },
      "source": [
        "### Imports and Data"
      ]
    },
    {
      "cell_type": "code",
      "metadata": {
        "id": "NexR8Vb2oB0-"
      },
      "source": [
        "\n",
        "import numpy as np\n",
        "import pandas as pd\n",
        "import time\n",
        "import matplotlib.pyplot as plt"
      ],
      "execution_count": null,
      "outputs": []
    },
    {
      "cell_type": "code",
      "metadata": {
        "id": "1zjWYTWxb1N0",
        "colab": {
          "resources": {
            "http://localhost:8080/nbextensions/google.colab/files.js": {
              "data": "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",
              "ok": true,
              "headers": [
                [
                  "content-type",
                  "application/javascript"
                ]
              ],
              "status": 200,
              "status_text": ""
            }
          },
          "base_uri": "https://localhost:8080/",
          "height": 1000
        },
        "outputId": "17f66512-a88c-49c9-c86e-1b203ab79293"
      },
      "source": [
        "\n",
        "from google.colab import files\n",
        "uploaded = files.upload()\n",
        "! unzip hw2_data.zip"
      ],
      "execution_count": null,
      "outputs": [
        {
          "output_type": "display_data",
          "data": {
            "text/html": [
              "\n",
              "     <input type=\"file\" id=\"files-2f064f4c-d199-4af8-9160-a212b036c05f\" name=\"files[]\" multiple disabled\n",
              "        style=\"border:none\" />\n",
              "     <output id=\"result-2f064f4c-d199-4af8-9160-a212b036c05f\">\n",
              "      Upload widget is only available when the cell has been executed in the\n",
              "      current browser session. Please rerun this cell to enable.\n",
              "      </output>\n",
              "      <script src=\"/nbextensions/google.colab/files.js\"></script> "
            ],
            "text/plain": [
              "<IPython.core.display.HTML object>"
            ]
          },
          "metadata": {
            "tags": []
          }
        },
        {
          "output_type": "stream",
          "text": [
            "Saving hw2_data.zip to hw2_data.zip\n",
            "Archive:  hw2_data.zip\n",
            "   creating: hw2_data/Data-set-1/\n",
            "   creating: hw2_data/Data-set-1/Train-subsets/\n",
            "  inflating: hw2_data/Data-set-1/Train-subsets/X_train_10_.txt  \n",
            "  inflating: hw2_data/Data-set-1/Train-subsets/X_train_100_.txt  \n",
            "  inflating: hw2_data/Data-set-1/Train-subsets/X_train_20_.txt  \n",
            "  inflating: hw2_data/Data-set-1/Train-subsets/X_train_30_.txt  \n",
            "  inflating: hw2_data/Data-set-1/Train-subsets/X_train_40_.txt  \n",
            "  inflating: hw2_data/Data-set-1/Train-subsets/X_train_50_.txt  \n",
            "  inflating: hw2_data/Data-set-1/Train-subsets/X_train_60_.txt  \n",
            "  inflating: hw2_data/Data-set-1/Train-subsets/X_train_70_.txt  \n",
            "  inflating: hw2_data/Data-set-1/Train-subsets/X_train_80_.txt  \n",
            "  inflating: hw2_data/Data-set-1/Train-subsets/X_train_90_.txt  \n",
            "  inflating: hw2_data/Data-set-1/Train-subsets/y_train_10_.txt  \n",
            "  inflating: hw2_data/Data-set-1/Train-subsets/y_train_100_.txt  \n",
            "  inflating: hw2_data/Data-set-1/Train-subsets/y_train_20_.txt  \n",
            "  inflating: hw2_data/Data-set-1/Train-subsets/y_train_30_.txt  \n",
            "  inflating: hw2_data/Data-set-1/Train-subsets/y_train_40_.txt  \n",
            "  inflating: hw2_data/Data-set-1/Train-subsets/y_train_50_.txt  \n",
            "  inflating: hw2_data/Data-set-1/Train-subsets/y_train_60_.txt  \n",
            "  inflating: hw2_data/Data-set-1/Train-subsets/y_train_70_.txt  \n",
            "  inflating: hw2_data/Data-set-1/Train-subsets/y_train_80_.txt  \n",
            "  inflating: hw2_data/Data-set-1/Train-subsets/y_train_90_.txt  \n",
            "  inflating: hw2_data/Data-set-1/X_test.txt  \n",
            "  inflating: hw2_data/Data-set-1/X_train.txt  \n",
            "  inflating: hw2_data/Data-set-1/y_test.txt  \n",
            "  inflating: hw2_data/Data-set-1/y_train.txt  \n",
            "   creating: hw2_data/Data-set-2/\n",
            "   creating: hw2_data/Data-set-2/Cross-validation/\n",
            "   creating: hw2_data/Data-set-2/Cross-validation/Fold1/\n",
            "  inflating: hw2_data/Data-set-2/Cross-validation/Fold1/X_10_.txt  \n",
            "  inflating: hw2_data/Data-set-2/Cross-validation/Fold1/X_100_.txt  \n",
            "  inflating: hw2_data/Data-set-2/Cross-validation/Fold1/y_10_.txt  \n",
            "  inflating: hw2_data/Data-set-2/Cross-validation/Fold1/y_100_.txt  \n",
            "   creating: hw2_data/Data-set-2/Cross-validation/Fold2/\n",
            "  inflating: hw2_data/Data-set-2/Cross-validation/Fold2/X_10_.txt  \n",
            "  inflating: hw2_data/Data-set-2/Cross-validation/Fold2/X_100_.txt  \n",
            "  inflating: hw2_data/Data-set-2/Cross-validation/Fold2/y_10_.txt  \n",
            "  inflating: hw2_data/Data-set-2/Cross-validation/Fold2/y_100_.txt  \n",
            "   creating: hw2_data/Data-set-2/Cross-validation/Fold3/\n",
            "  inflating: hw2_data/Data-set-2/Cross-validation/Fold3/X_10_.txt  \n",
            "  inflating: hw2_data/Data-set-2/Cross-validation/Fold3/X_100_.txt  \n",
            "  inflating: hw2_data/Data-set-2/Cross-validation/Fold3/y_10_.txt  \n",
            "  inflating: hw2_data/Data-set-2/Cross-validation/Fold3/y_100_.txt  \n",
            "   creating: hw2_data/Data-set-2/Cross-validation/Fold4/\n",
            "  inflating: hw2_data/Data-set-2/Cross-validation/Fold4/X_10_.txt  \n",
            "  inflating: hw2_data/Data-set-2/Cross-validation/Fold4/X_100_.txt  \n",
            "  inflating: hw2_data/Data-set-2/Cross-validation/Fold4/y_10_.txt  \n",
            "  inflating: hw2_data/Data-set-2/Cross-validation/Fold4/y_100_.txt  \n",
            "   creating: hw2_data/Data-set-2/Cross-validation/Fold5/\n",
            "  inflating: hw2_data/Data-set-2/Cross-validation/Fold5/X_10_.txt  \n",
            "  inflating: hw2_data/Data-set-2/Cross-validation/Fold5/X_100_.txt  \n",
            "  inflating: hw2_data/Data-set-2/Cross-validation/Fold5/y_10_.txt  \n",
            "  inflating: hw2_data/Data-set-2/Cross-validation/Fold5/y_100_.txt  \n",
            "   creating: hw2_data/Data-set-2/Train-subsets/\n",
            "  inflating: hw2_data/Data-set-2/Train-subsets/X_train_10_.txt  \n",
            "  inflating: hw2_data/Data-set-2/Train-subsets/X_train_100_.txt  \n",
            "  inflating: hw2_data/Data-set-2/Train-subsets/y_train_10_.txt  \n",
            "  inflating: hw2_data/Data-set-2/Train-subsets/y_train_100_.txt  \n",
            "  inflating: hw2_data/Data-set-2/X_test.txt  \n",
            "  inflating: hw2_data/Data-set-2/X_train.txt  \n",
            "  inflating: hw2_data/Data-set-2/y_test.txt  \n",
            "  inflating: hw2_data/Data-set-2/y_train.txt  \n"
          ],
          "name": "stdout"
        }
      ]
    },
    {
      "cell_type": "markdown",
      "metadata": {
        "id": "2weGbLJ2txVd"
      },
      "source": [
        "## Least Squares Regression\n"
      ]
    },
    {
      "cell_type": "markdown",
      "metadata": {
        "id": "r4LiXAOQoB1J"
      },
      "source": [
        "### L1 and L2 error"
      ]
    },
    {
      "cell_type": "code",
      "metadata": {
        "id": "Z0v0785ioB1M"
      },
      "source": [
        "def L2_error(y, y_hat):\n",
        "    \"\"\"\n",
        "    L2 error loss\n",
        "    \n",
        "    Args:\n",
        "    y ((n,1) np.array): actual labels\n",
        "    y_hat ((n,1) np.array): estimated labels\n",
        "    \n",
        "    Returns:\n",
        "        float: L2 error\n",
        "    \"\"\"\n",
        "    L2_error =(np.sum(abs(np.power(np.subtract(y_hat,y),2))) / (y.shape[0]) ) \n",
        "    return L2_error\n",
        "\n",
        "\n",
        "\n",
        "def L1_error(y, y_hat):\n",
        "    \"\"\"\n",
        "    L1 error loss\n",
        "    \n",
        "    Args:\n",
        "    y ((n,1) np.array): actual labels\n",
        "    y_hat ((n,1) np.array): estimated labels\n",
        "    \n",
        "    Returns:\n",
        "        float: L1 error\n",
        "    \"\"\"\n",
        "    L1_error = np.sum(abs(np.subtract(y_hat,y))) / (y.shape[0])\n",
        "    \n",
        "    return L1_error"
      ],
      "execution_count": null,
      "outputs": []
    },
    {
      "cell_type": "markdown",
      "metadata": {
        "id": "asQPLD_HoB1T"
      },
      "source": [
        "### Least Square Regression"
      ]
    },
    {
      "cell_type": "code",
      "metadata": {
        "id": "JVMYIbQGoB1W"
      },
      "source": [
        "def LinearRegression(train_data, train_labels):\n",
        "    \"\"\"\n",
        "    Runs OLS on the given data.\n",
        "    \n",
        "    Args:\n",
        "        train_data ((n,p) np.array): n is the number of training points and p the number of features\n",
        "        train_labels ((n,1) np.array): training labels for the training data    \n",
        "    \n",
        "    Returns\n",
        "        tuple: (w, b) where w is a (p,1) weight vector, and b the bias term     \n",
        "    \"\"\"\n",
        "    X_0=np.ones(len(train_data))[:, np.newaxis]\n",
        "    all_data = np.hstack((X_0,train_data))\n",
        "    w_all=np.dot(np.dot(np.linalg.inv(np.dot(all_data.T,all_data)) , all_data.T),train_labels)\n",
        "    w=w_all[1:]\n",
        "    b=w_all[0]\n",
        "\n",
        "    return (w,b)"
      ],
      "execution_count": null,
      "outputs": []
    },
    {
      "cell_type": "markdown",
      "metadata": {
        "id": "2-MIQRMFoB1j"
      },
      "source": [
        "### Ridge Regression"
      ]
    },
    {
      "cell_type": "code",
      "metadata": {
        "id": "8twOpQynoB1m"
      },
      "source": [
        "def LinearRegressionL2(train_data, train_labels, lambda_):\n",
        "    \"\"\"\n",
        "    Runs linear regression with L2 regularization (ridge) on the given data.\n",
        "    \n",
        "    Args:\n",
        "        train_data ((n,p) np.array): n is the number of training points and p the number of features\n",
        "        train_labels ((n,1) np.array): training labels for the training data    \n",
        "        lambda_  (float): scalar weighting the L2 penalty\n",
        "\n",
        "    Returns\n",
        "        tuple: (w, b) where w is a (p,1) weight vector, and b the bias term  \n",
        "    \"\"\"\n",
        "    X_0=np.ones(len(train_data))[:, np.newaxis]\n",
        "    all_data = np.hstack((X_0,train_data))\n",
        "    w_all=np.dot(np.dot(np.linalg.inv(np.dot(all_data.T,all_data)+lambda_ * np.identity(len(all_data[1]))) , all_data.T),train_labels)\n",
        "    w=w_all[1:]\n",
        "    b=w_all[0]\n",
        "    \n",
        "    return (w,b)"
      ],
      "execution_count": null,
      "outputs": []
    },
    {
      "cell_type": "code",
      "metadata": {
        "id": "ssEm895ToB2T",
        "colab": {
          "base_uri": "https://localhost:8080/",
          "height": 791
        },
        "outputId": "84b084d2-72f4-4df6-b7c0-3ebe8c5a89c8"
      },
      "source": [
        "\"\"\"\n",
        "Please remember to comment out all code not contained within a function before \n",
        "submitting your file.\n",
        "\"\"\"\n",
        "\n",
        "def predict(w, b, x):\n",
        "    \n",
        "    y=np.dot(x,w)+b\n",
        "    return (y)\n",
        "for i in [10, 100]:\n",
        "    lambdas = [0.1,1,10,50,100,1000]\n",
        "    X_test = pd.read_csv('hw2_data/Data-set-2/X_test.txt').values\n",
        "    y_test = pd.read_csv('hw2_data/Data-set-2/y_test.txt').values\n",
        "    X_train = pd.read_csv('hw2_data/Data-set-2/Train-subsets/X_train_'+str(i)+'_.txt', delimiter='\\t',header=None).dropna(axis=1).values\n",
        "    y_train = pd.read_csv('hw2_data/Data-set-2/Train-subsets/y_train_'+str(i)+'_.txt', delimiter='\\t',header=None).dropna(axis=1).values\n",
        "    train_errors = [0]*6\n",
        "    test_errors = [0]*6\n",
        "    cv_errors = [0]*6\n",
        "    \n",
        "    \n",
        "    \n",
        "    dataset =  pd.concat([pd.DataFrame(X_train), pd.DataFrame(y_train)], axis=1) \n",
        "\n",
        "    for k in range(len(lambdas)):\n",
        "      errors = [0]*5\n",
        "      for j in range(5):\n",
        "        testcv=dataset[ int(j*(len(dataset.index)/5) ) :  int((j+1)*(len(dataset.index)/5))]\n",
        "        traincv=pd.concat([dataset[0: int(j*(len(dataset.index)/5) )],dataset[int((j+1)*(len(dataset.index)/5)):]],axis=0)\n",
        "\n",
        "        w=LinearRegressionL2( traincv.iloc[:,0:-1] ,traincv.iloc[:,-1:],lambdas[k])[0]\n",
        "        b=LinearRegressionL2( traincv.iloc[:,0:-1],traincv.iloc[:,-1:],lambdas[k])[1]\n",
        "        errors[j]=float(L2_error(predict(w,b,testcv.iloc[:,0:-1] ),testcv.iloc[:,-1:] ))\n",
        "      cv_errors[k]=np.sum(errors)/5\n",
        "      print(cv_errors)\n",
        "      w=LinearRegressionL2( dataset.iloc[:,0:-1] ,dataset.iloc[:,-1:],lambdas[k])[0]\n",
        "      b=LinearRegressionL2( dataset.iloc[:,0:-1],dataset.iloc[:,-1:],lambdas[k])[1]\n",
        "      test_errors[k]=float(L2_error(predict(w,b,X_test ),y_test))\n",
        "      train_errors[k]=float(L2_error(predict(w,b,X_train ),y_train))\n",
        "    plt.plot(range(6),cv_errors, label = 'cv error')\n",
        "    plt.legend(bbox_to_anchor=(1.05, 1), loc='upper left', borderaxespad=0.)\n",
        "    plt.title('Regression on ' + str(i) + '% of the training data')\n",
        "    plt.ylabel('L2 error')\n",
        "    plt.xlabel('Lambda Value')\n",
        "    plt.xticks(range(6), lambdas)\n",
        "    plt.show()"
      ],
      "execution_count": null,
      "outputs": [
        {
          "output_type": "stream",
          "text": [
            "[176.25063828535193, 0, 0, 0, 0, 0]\n",
            "[176.25063828535193, 175.9487598606842, 0, 0, 0, 0]\n",
            "[176.25063828535193, 175.9487598606842, 175.73358896798277, 0, 0, 0]\n",
            "[176.25063828535193, 175.9487598606842, 175.73358896798277, 174.9813850636844, 0, 0]\n",
            "[176.25063828535193, 175.9487598606842, 175.73358896798277, 174.9813850636844, 174.18024320858203, 0]\n",
            "[176.25063828535193, 175.9487598606842, 175.73358896798277, 174.9813850636844, 174.18024320858203, 167.5272845108879]\n"
          ],
          "name": "stdout"
        },
        {
          "output_type": "display_data",
          "data": {
            "image/png": "[encoded data removed]",
            "text/plain": [
              "<Figure size 432x288 with 1 Axes>"
            ]
          },
          "metadata": {
            "tags": [],
            "needs_background": "light"
          }
        },
        {
          "output_type": "stream",
          "text": [
            "[110.88368314003927, 0, 0, 0, 0, 0]\n",
            "[110.88368314003927, 110.76522354836061, 0, 0, 0, 0]\n",
            "[110.88368314003927, 110.76522354836061, 110.74505935042494, 0, 0, 0]\n",
            "[110.88368314003927, 110.76522354836061, 110.74505935042494, 110.74325903676856, 0, 0]\n",
            "[110.88368314003927, 110.76522354836061, 110.74505935042494, 110.74325903676856, 110.74317514851668, 0]\n",
            "[110.88368314003927, 110.76522354836061, 110.74505935042494, 110.74325903676856, 110.74317514851668, 110.74702458075717]\n"
          ],
          "name": "stdout"
        },
        {
          "output_type": "display_data",
          "data": {
            "image/png": "[encoded data removed]",
            "text/plain": [
              "<Figure size 432x288 with 1 Axes>"
            ]
          },
          "metadata": {
            "tags": [],
            "needs_background": "light"
          }
        }
      ]
    },
    {
      "cell_type": "code",
      "metadata": {
        "id": "zskh4lf7rAN7",
        "colab": {
          "base_uri": "https://localhost:8080/",
          "height": 506
        },
        "outputId": "7e2f9848-7013-425c-c852-0735b9ad8e1a"
      },
      "source": [
        "\"\"\"\n",
        "Please remember to comment out all code not contained within a function before \n",
        "submitting your file.\n",
        "\"\"\"\n",
        "\n",
        "def predict(w, b, x):\n",
        "    \n",
        "    y=np.dot(x,w)+b\n",
        "    return (y)\n",
        "\n",
        "for i in [5, 100]:\n",
        "    lambda_ = [0.1,1,10,50,100,150,200,500,1000,2500,5000]\n",
        "    train_error = [0]*11\n",
        "    test_error = [0]*11\n",
        "    cv_error = [0]*11\n",
        "    X_test = pd.read_csv('/content/hw2_data/hw2_data/Data-set-2/X_test',header=None).values\n",
        "    y_test = pd.read_csv('/content/hw2_data/hw2_data/Data-set-2/y_test',header=None).values\n",
        "    X_train = pd.read_csv('/content/hw2_data/hw2_data/Data-set-2/Train-subsets/X_train_'+str(i)+'.txt',header=None).values\n",
        "    y_train = pd.read_csv('/content/hw2_data/hw2_data/Data-set-2/Train-subsets/y_train_'+str(i)+'.txt',header=None).values \n",
        "    \n",
        "\n",
        "    dataset =  pd.concat([pd.DataFrame(X_train), pd.DataFrame(y_train)], axis=1) .sample(n=len(dataset.index))\n",
        "\n",
        "    for k in range(len(lambda_)):\n",
        "      errors = [0]*5\n",
        "      for j in range(5):\n",
        "        testcv=dataset[ int(j*(len(dataset.index)/5) ) :  int((j+1)*(len(dataset.index)/5))]\n",
        "        traincv=pd.concat([dataset[0: int(j*(len(dataset.index)/5) )],dataset[int((j+1)*(len(dataset.index)/5)):]],axis=0)\n",
        "\n",
        "        w=LinearRegressionL2( traincv.iloc[:,0:-1] ,traincv.iloc[:,-1:],lambda_[k])[0]\n",
        "        b=LinearRegressionL2( traincv.iloc[:,0:-1],traincv.iloc[:,-1:],lambda_[k])[1]\n",
        "        errors[j]=L2_error(predict(w,b,testcv.iloc[:,0:-1] ),testcv.iloc[:,-1:] )\n",
        "      cv_error[k]=sum(errors)\n",
        "    plt.plot(range(11), train_error, label='training error')\n",
        "    plt.plot(range(11),cv_error, label = 'cv error')\n",
        "    plt.plot(range(11), test_error, label = 'test error')\n",
        "    plt.legend(bbox_to_anchor=(1.05, 1), loc='upper left', borderaxespad=0.)\n",
        "    plt.title('Regression on ' + str(i) + '% of the training data')\n",
        "    plt.ylabel('L2 error')\n",
        "    plt.xlabel('Lambda Value')\n",
        "    plt.xticks(range(11), lambda_)\n",
        "    plt.show()\n"
      ],
      "execution_count": null,
      "outputs": [
        {
          "output_type": "error",
          "ename": "FileNotFoundError",
          "evalue": "ignored",
          "traceback": [
            "\u001b[0;31m---------------------------------------------------------------------------\u001b[0m",
            "\u001b[0;31mFileNotFoundError\u001b[0m                         Traceback (most recent call last)",
            "\u001b[0;32m<ipython-input-8-e7b476b7b6cb>\u001b[0m in \u001b[0;36m<module>\u001b[0;34m()\u001b[0m\n\u001b[1;32m     14\u001b[0m     \u001b[0mtest_error\u001b[0m \u001b[0;34m=\u001b[0m \u001b[0;34m[\u001b[0m\u001b[0;36m0\u001b[0m\u001b[0;34m]\u001b[0m\u001b[0;34m*\u001b[0m\u001b[0;36m11\u001b[0m\u001b[0;34m\u001b[0m\u001b[0;34m\u001b[0m\u001b[0m\n\u001b[1;32m     15\u001b[0m     \u001b[0mcv_error\u001b[0m \u001b[0;34m=\u001b[0m \u001b[0;34m[\u001b[0m\u001b[0;36m0\u001b[0m\u001b[0;34m]\u001b[0m\u001b[0;34m*\u001b[0m\u001b[0;36m11\u001b[0m\u001b[0;34m\u001b[0m\u001b[0;34m\u001b[0m\u001b[0m\n\u001b[0;32m---> 16\u001b[0;31m     \u001b[0mX_test\u001b[0m \u001b[0;34m=\u001b[0m \u001b[0mpd\u001b[0m\u001b[0;34m.\u001b[0m\u001b[0mread_csv\u001b[0m\u001b[0;34m(\u001b[0m\u001b[0;34m'/content/hw2_data/hw2_data/Data-set-2/X_test'\u001b[0m\u001b[0;34m,\u001b[0m\u001b[0mheader\u001b[0m\u001b[0;34m=\u001b[0m\u001b[0;32mNone\u001b[0m\u001b[0;34m)\u001b[0m\u001b[0;34m.\u001b[0m\u001b[0mvalues\u001b[0m\u001b[0;34m\u001b[0m\u001b[0;34m\u001b[0m\u001b[0m\n\u001b[0m\u001b[1;32m     17\u001b[0m     \u001b[0my_test\u001b[0m \u001b[0;34m=\u001b[0m \u001b[0mpd\u001b[0m\u001b[0;34m.\u001b[0m\u001b[0mread_csv\u001b[0m\u001b[0;34m(\u001b[0m\u001b[0;34m'/content/hw2_data/hw2_data/Data-set-2/y_test'\u001b[0m\u001b[0;34m,\u001b[0m\u001b[0mheader\u001b[0m\u001b[0;34m=\u001b[0m\u001b[0;32mNone\u001b[0m\u001b[0;34m)\u001b[0m\u001b[0;34m.\u001b[0m\u001b[0mvalues\u001b[0m\u001b[0;34m\u001b[0m\u001b[0;34m\u001b[0m\u001b[0m\n\u001b[1;32m     18\u001b[0m     \u001b[0mX_train\u001b[0m \u001b[0;34m=\u001b[0m \u001b[0mpd\u001b[0m\u001b[0;34m.\u001b[0m\u001b[0mread_csv\u001b[0m\u001b[0;34m(\u001b[0m\u001b[0;34m'/content/hw2_data/hw2_data/Data-set-2/Train-subsets/X_train_'\u001b[0m\u001b[0;34m+\u001b[0m\u001b[0mstr\u001b[0m\u001b[0;34m(\u001b[0m\u001b[0mi\u001b[0m\u001b[0;34m)\u001b[0m\u001b[0;34m+\u001b[0m\u001b[0;34m'.txt'\u001b[0m\u001b[0;34m,\u001b[0m\u001b[0mheader\u001b[0m\u001b[0;34m=\u001b[0m\u001b[0;32mNone\u001b[0m\u001b[0;34m)\u001b[0m\u001b[0;34m.\u001b[0m\u001b[0mvalues\u001b[0m\u001b[0;34m\u001b[0m\u001b[0;34m\u001b[0m\u001b[0m\n",
            "\u001b[0;32m/usr/local/lib/python3.6/dist-packages/pandas/io/parsers.py\u001b[0m in \u001b[0;36mparser_f\u001b[0;34m(filepath_or_buffer, sep, delimiter, header, names, index_col, usecols, squeeze, prefix, mangle_dupe_cols, dtype, engine, converters, true_values, false_values, skipinitialspace, skiprows, skipfooter, nrows, na_values, keep_default_na, na_filter, verbose, skip_blank_lines, parse_dates, infer_datetime_format, keep_date_col, date_parser, dayfirst, cache_dates, iterator, chunksize, compression, thousands, decimal, lineterminator, quotechar, quoting, doublequote, escapechar, comment, encoding, dialect, error_bad_lines, warn_bad_lines, delim_whitespace, low_memory, memory_map, float_precision)\u001b[0m\n\u001b[1;32m    674\u001b[0m         )\n\u001b[1;32m    675\u001b[0m \u001b[0;34m\u001b[0m\u001b[0m\n\u001b[0;32m--> 676\u001b[0;31m         \u001b[0;32mreturn\u001b[0m \u001b[0m_read\u001b[0m\u001b[0;34m(\u001b[0m\u001b[0mfilepath_or_buffer\u001b[0m\u001b[0;34m,\u001b[0m \u001b[0mkwds\u001b[0m\u001b[0;34m)\u001b[0m\u001b[0;34m\u001b[0m\u001b[0;34m\u001b[0m\u001b[0m\n\u001b[0m\u001b[1;32m    677\u001b[0m \u001b[0;34m\u001b[0m\u001b[0m\n\u001b[1;32m    678\u001b[0m     \u001b[0mparser_f\u001b[0m\u001b[0;34m.\u001b[0m\u001b[0m__name__\u001b[0m \u001b[0;34m=\u001b[0m \u001b[0mname\u001b[0m\u001b[0;34m\u001b[0m\u001b[0;34m\u001b[0m\u001b[0m\n",
            "\u001b[0;32m/usr/local/lib/python3.6/dist-packages/pandas/io/parsers.py\u001b[0m in \u001b[0;36m_read\u001b[0;34m(filepath_or_buffer, kwds)\u001b[0m\n\u001b[1;32m    446\u001b[0m \u001b[0;34m\u001b[0m\u001b[0m\n\u001b[1;32m    447\u001b[0m     \u001b[0;31m# Create the parser.\u001b[0m\u001b[0;34m\u001b[0m\u001b[0;34m\u001b[0m\u001b[0;34m\u001b[0m\u001b[0m\n\u001b[0;32m--> 448\u001b[0;31m     \u001b[0mparser\u001b[0m \u001b[0;34m=\u001b[0m \u001b[0mTextFileReader\u001b[0m\u001b[0;34m(\u001b[0m\u001b[0mfp_or_buf\u001b[0m\u001b[0;34m,\u001b[0m \u001b[0;34m**\u001b[0m\u001b[0mkwds\u001b[0m\u001b[0;34m)\u001b[0m\u001b[0;34m\u001b[0m\u001b[0;34m\u001b[0m\u001b[0m\n\u001b[0m\u001b[1;32m    449\u001b[0m \u001b[0;34m\u001b[0m\u001b[0m\n\u001b[1;32m    450\u001b[0m     \u001b[0;32mif\u001b[0m \u001b[0mchunksize\u001b[0m \u001b[0;32mor\u001b[0m \u001b[0miterator\u001b[0m\u001b[0;34m:\u001b[0m\u001b[0;34m\u001b[0m\u001b[0;34m\u001b[0m\u001b[0m\n",
            "\u001b[0;32m/usr/local/lib/python3.6/dist-packages/pandas/io/parsers.py\u001b[0m in \u001b[0;36m__init__\u001b[0;34m(self, f, engine, **kwds)\u001b[0m\n\u001b[1;32m    878\u001b[0m             \u001b[0mself\u001b[0m\u001b[0;34m.\u001b[0m\u001b[0moptions\u001b[0m\u001b[0;34m[\u001b[0m\u001b[0;34m\"has_index_names\"\u001b[0m\u001b[0;34m]\u001b[0m \u001b[0;34m=\u001b[0m \u001b[0mkwds\u001b[0m\u001b[0;34m[\u001b[0m\u001b[0;34m\"has_index_names\"\u001b[0m\u001b[0;34m]\u001b[0m\u001b[0;34m\u001b[0m\u001b[0;34m\u001b[0m\u001b[0m\n\u001b[1;32m    879\u001b[0m \u001b[0;34m\u001b[0m\u001b[0m\n\u001b[0;32m--> 880\u001b[0;31m         \u001b[0mself\u001b[0m\u001b[0;34m.\u001b[0m\u001b[0m_make_engine\u001b[0m\u001b[0;34m(\u001b[0m\u001b[0mself\u001b[0m\u001b[0;34m.\u001b[0m\u001b[0mengine\u001b[0m\u001b[0;34m)\u001b[0m\u001b[0;34m\u001b[0m\u001b[0;34m\u001b[0m\u001b[0m\n\u001b[0m\u001b[1;32m    881\u001b[0m \u001b[0;34m\u001b[0m\u001b[0m\n\u001b[1;32m    882\u001b[0m     \u001b[0;32mdef\u001b[0m \u001b[0mclose\u001b[0m\u001b[0;34m(\u001b[0m\u001b[0mself\u001b[0m\u001b[0;34m)\u001b[0m\u001b[0;34m:\u001b[0m\u001b[0;34m\u001b[0m\u001b[0;34m\u001b[0m\u001b[0m\n",
            "\u001b[0;32m/usr/local/lib/python3.6/dist-packages/pandas/io/parsers.py\u001b[0m in \u001b[0;36m_make_engine\u001b[0;34m(self, engine)\u001b[0m\n\u001b[1;32m   1112\u001b[0m     \u001b[0;32mdef\u001b[0m \u001b[0m_make_engine\u001b[0m\u001b[0;34m(\u001b[0m\u001b[0mself\u001b[0m\u001b[0;34m,\u001b[0m \u001b[0mengine\u001b[0m\u001b[0;34m=\u001b[0m\u001b[0;34m\"c\"\u001b[0m\u001b[0;34m)\u001b[0m\u001b[0;34m:\u001b[0m\u001b[0;34m\u001b[0m\u001b[0;34m\u001b[0m\u001b[0m\n\u001b[1;32m   1113\u001b[0m         \u001b[0;32mif\u001b[0m \u001b[0mengine\u001b[0m \u001b[0;34m==\u001b[0m \u001b[0;34m\"c\"\u001b[0m\u001b[0;34m:\u001b[0m\u001b[0;34m\u001b[0m\u001b[0;34m\u001b[0m\u001b[0m\n\u001b[0;32m-> 1114\u001b[0;31m             \u001b[0mself\u001b[0m\u001b[0;34m.\u001b[0m\u001b[0m_engine\u001b[0m \u001b[0;34m=\u001b[0m \u001b[0mCParserWrapper\u001b[0m\u001b[0;34m(\u001b[0m\u001b[0mself\u001b[0m\u001b[0;34m.\u001b[0m\u001b[0mf\u001b[0m\u001b[0;34m,\u001b[0m \u001b[0;34m**\u001b[0m\u001b[0mself\u001b[0m\u001b[0;34m.\u001b[0m\u001b[0moptions\u001b[0m\u001b[0;34m)\u001b[0m\u001b[0;34m\u001b[0m\u001b[0;34m\u001b[0m\u001b[0m\n\u001b[0m\u001b[1;32m   1115\u001b[0m         \u001b[0;32melse\u001b[0m\u001b[0;34m:\u001b[0m\u001b[0;34m\u001b[0m\u001b[0;34m\u001b[0m\u001b[0m\n\u001b[1;32m   1116\u001b[0m             \u001b[0;32mif\u001b[0m \u001b[0mengine\u001b[0m \u001b[0;34m==\u001b[0m \u001b[0;34m\"python\"\u001b[0m\u001b[0;34m:\u001b[0m\u001b[0;34m\u001b[0m\u001b[0;34m\u001b[0m\u001b[0m\n",
            "\u001b[0;32m/usr/local/lib/python3.6/dist-packages/pandas/io/parsers.py\u001b[0m in \u001b[0;36m__init__\u001b[0;34m(self, src, **kwds)\u001b[0m\n\u001b[1;32m   1889\u001b[0m         \u001b[0mkwds\u001b[0m\u001b[0;34m[\u001b[0m\u001b[0;34m\"usecols\"\u001b[0m\u001b[0;34m]\u001b[0m \u001b[0;34m=\u001b[0m \u001b[0mself\u001b[0m\u001b[0;34m.\u001b[0m\u001b[0musecols\u001b[0m\u001b[0;34m\u001b[0m\u001b[0;34m\u001b[0m\u001b[0m\n\u001b[1;32m   1890\u001b[0m \u001b[0;34m\u001b[0m\u001b[0m\n\u001b[0;32m-> 1891\u001b[0;31m         \u001b[0mself\u001b[0m\u001b[0;34m.\u001b[0m\u001b[0m_reader\u001b[0m \u001b[0;34m=\u001b[0m \u001b[0mparsers\u001b[0m\u001b[0;34m.\u001b[0m\u001b[0mTextReader\u001b[0m\u001b[0;34m(\u001b[0m\u001b[0msrc\u001b[0m\u001b[0;34m,\u001b[0m \u001b[0;34m**\u001b[0m\u001b[0mkwds\u001b[0m\u001b[0;34m)\u001b[0m\u001b[0;34m\u001b[0m\u001b[0;34m\u001b[0m\u001b[0m\n\u001b[0m\u001b[1;32m   1892\u001b[0m         \u001b[0mself\u001b[0m\u001b[0;34m.\u001b[0m\u001b[0munnamed_cols\u001b[0m \u001b[0;34m=\u001b[0m \u001b[0mself\u001b[0m\u001b[0;34m.\u001b[0m\u001b[0m_reader\u001b[0m\u001b[0;34m.\u001b[0m\u001b[0munnamed_cols\u001b[0m\u001b[0;34m\u001b[0m\u001b[0;34m\u001b[0m\u001b[0m\n\u001b[1;32m   1893\u001b[0m \u001b[0;34m\u001b[0m\u001b[0m\n",
            "\u001b[0;32mpandas/_libs/parsers.pyx\u001b[0m in \u001b[0;36mpandas._libs.parsers.TextReader.__cinit__\u001b[0;34m()\u001b[0m\n",
            "\u001b[0;32mpandas/_libs/parsers.pyx\u001b[0m in \u001b[0;36mpandas._libs.parsers.TextReader._setup_parser_source\u001b[0;34m()\u001b[0m\n",
            "\u001b[0;31mFileNotFoundError\u001b[0m: [Errno 2] File /content/hw2_data/hw2_data/Data-set-2/X_test does not exist: '/content/hw2_data/hw2_data/Data-set-2/X_test'"
          ]
        }
      ]
    },
    {
      "cell_type": "markdown",
      "metadata": {
        "id": "XOST5QSSXcCR"
      },
      "source": [
        "##  Batch Gradient Descent\n"
      ]
    },
    {
      "cell_type": "markdown",
      "metadata": {
        "id": "3FG2ga9IoB1q"
      },
      "source": [
        "### Gradient Descent Linear Regression"
      ]
    },
    {
      "cell_type": "code",
      "metadata": {
        "id": "1iOD4J1noB1t"
      },
      "source": [
        "def grad_J(x,y,n,theta):\n",
        "    returnValue = np.zeros(len(x[0]))\n",
        "    for i in range(n):\n",
        "        returnValue += (np.dot(x[i],theta)-y[i])*x[i]\n",
        "    returnValue = returnValue/(n)\n",
        "    return returnValue\n",
        "\n",
        "def LinearRegressionGD(train_data, train_labels, iters, learning_rate):\n",
        "    \"\"\"\n",
        "    Args:\n",
        "        train_data ((n,p) np.array): n is the number of training points and p the number of features\n",
        "        train_labels ((n,1) np.array): training labels for the training data \n",
        "        iters (int): the number of iterations to run Gradient Descent\n",
        "        learning_rate (float): the alpha value for gradient descent\n",
        "\n",
        "    Returns\n",
        "        tuple: (w, b) where w is a (p,1) weight vector, and b the bias term \n",
        "    \"\"\"\n",
        "    X_0=np.ones(len(train_data))[:, np.newaxis]\n",
        "    all_data = np.hstack((X_0,train_data))\n",
        "    theta_old = np.zeros(len(all_data[0]))\n",
        "    theta_new = np.ones(len(all_data[0])) # The algorithm starts at [1,1]\n",
        "    n_k = learning_rate # step size\n",
        "    precision = 0.01\n",
        "    num_steps = 0\n",
        "    s_k = float(\"inf\")\n",
        "\n",
        "    while np.linalg.norm(s_k) > precision and num_steps<iters:\n",
        "        num_steps += 1\n",
        "        theta_old = theta_new\n",
        "        s_k = grad_J(all_data,train_labels,len(all_data),theta_old)\n",
        "        theta_new = theta_old - n_k * s_k\n",
        "\n",
        "    w = theta_new[1:]\n",
        "    b = theta_new[0]\n",
        "    \n",
        "    return (w, b)"
      ],
      "execution_count": null,
      "outputs": []
    },
    {
      "cell_type": "markdown",
      "metadata": {
        "id": "GxQ_BL9IoB2q"
      },
      "source": [
        "###Batch Gradient Descent Runtime\n"
      ]
    },
    {
      "cell_type": "code",
      "metadata": {
        "id": "dtVVF2hGoB2t",
        "colab": {
          "base_uri": "https://localhost:8080/",
          "height": 217
        },
        "outputId": "cc25f5f2-77d7-4eed-acb3-1788fee96b66"
      },
      "source": [
        "\"\"\"\n",
        "Please remember to comment out all code not contained within a function before \n",
        "submitting your file.\n",
        "\"\"\"\n",
        "\n",
        "X_test = pd.read_csv('hw2_data/Data-set-1/X_test.txt', header=None).values\n",
        "y_test = pd.read_csv('hw2_data/Data-set-1/y_test.txt', header=None).values\n",
        "X_train = pd.read_csv('hw2_data/Data-set-1/X_train.txt',delimiter='\\t', header=None).dropna(axis=1).values\n",
        "y_train = pd.read_csv('hw2_data/Data-set-1/y_train.txt', header=None).values\n",
        "\n",
        "start = time.time()\n",
        "(w,b) = LinearRegression(X_train, y_train)\n",
        "y_test_pred = np.matmul(X_test, w) + b\n",
        "y_train_pred = np.matmul(X_train, w) + b\n",
        "\n",
        "\n",
        "L2_error(y_test, y_test_pred)\n",
        "print(\"--- OLS Closed Form ---\")\n",
        "print(\"W:\", w.T, \"B:\", b)\n",
        "print(\"L2 Training Error:\", L2_error(y_train, y_train_pred))\n",
        "print(\"L2 Test Error:\", L2_error(y_test, y_test_pred))\n",
        "print(\"Time:\", time.time() - start)\n",
        "print()\n",
        "\n",
        "start = time.time()\n",
        "(w,b) = LinearRegressionGD(X_train, y_train, 100, .01)\n",
        "y_test_pred = np.matmul(X_test, [w]) + b\n",
        "y_train_pred = np.matmul(X_train, [w]) + b\n",
        "L2_error(y_test, y_test_pred)\n",
        "print(\"---  Gradient Descent ---\")\n",
        "print(\"W:\", w, \"B:\", b)\n",
        "print(\"L2 Training Error:\", L2_error(y_train, y_train_pred))\n",
        "print(\"L2 Test Error:\", L2_error(y_test, y_test_pred))\n",
        "print(\"Time:\", time.time() - start)"
      ],
      "execution_count": null,
      "outputs": [
        {
          "output_type": "stream",
          "text": [
            "--- OLS Closed Form ---\n",
            "W: [[-2.23442304]] B: [1.16717388]\n",
            "L2 Training Error: 0.2876339586619918\n",
            "L2 Test Error: 0.3347596869735334\n",
            "Time: 0.0040662288665771484\n",
            "\n",
            "---  Gradient Descent ---\n",
            "W: [0.37129421] B: 0.19929432537236805\n",
            "L2 Training Error: 0.9388526014411525\n",
            "L2 Test Error: 0.8506891771452824\n",
            "Time: 0.14123249053955078\n"
          ],
          "name": "stdout"
        }
      ]
    }
  ]
}